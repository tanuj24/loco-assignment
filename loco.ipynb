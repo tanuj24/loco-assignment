{
 "cells": [
  {
   "cell_type": "code",
   "execution_count": 133,
   "id": "0e38abcb-609c-4984-a210-b78c2f42d5c9",
   "metadata": {},
   "outputs": [],
   "source": [
    "from pyspark.sql import SparkSession\n",
    "from pyspark.sql import functions as F\n",
    "from pyspark.sql import Window"
   ]
  },
  {
   "cell_type": "code",
   "execution_count": 134,
   "id": "0fdf61d1-ceff-42b1-a5e0-84c8cd7e14d5",
   "metadata": {},
   "outputs": [],
   "source": [
    "spark = SparkSession.builder.appName(\"loco\").getOrCreate()"
   ]
  },
  {
   "cell_type": "code",
   "execution_count": 135,
   "id": "508cac97-6f8b-4a05-b75c-89cd15185dc5",
   "metadata": {},
   "outputs": [],
   "source": [
    "class Constants:\n",
    "    LIKED_PATH = \"assignment_data/reel_liked_data\"\n",
    "    UNLIKED_PATH = \"assignment_data/reel_unliked_data\"\n",
    "    WATCHED_PATH = \"assignment_data/reel_watched_data\"\n",
    "    DATA_SINK = \"\""
   ]
  },
  {
   "cell_type": "code",
   "execution_count": 231,
   "id": "cc37110b-6f11-45db-8368-131bb1073aa5",
   "metadata": {},
   "outputs": [],
   "source": [
    "class TestCases:\n",
    "\n",
    "    test_liked_only_event =  {'reel_liked_data': [{\"event_name\": \"reel_liked\", \"timestamp\": 1000000004, \"server_timestamp\": 1000000004, \"user_uid\": \"ML0ZSX\", \"streamer_uid\": \"GV24MY5\", \"reel_uid\":\"881e4c8b-99af-4156-a325-a2068f5bf873\", \"category_uid\": \"bgmi\", \"origin_platform\": \"ios\", \"app_version\": \"5.7.9\", \"reel_duration\": 100, \"like_time\": 19}\n",
    "                                            ],\n",
    "                        'reel_unliked_data': [{\"event_name\": \"reel_unliked\", \"timestamp\": 1000000003, \"server_timestamp\": 1000000003, \"user_uid\": \"ML0ZSX\", \"streamer_uid\": \"GV24MY5\", \"reel_uid\": \"881e4c8b-99af-4156-a325-a2068f5bf873\", \"category_uid\": \"bgmi\", \"origin_platform\": \"ios\", \"app_version\": \"5.7.9\", \"reel_duration\": 100, \"unlike_time\": 38}\n",
    "],\n",
    "                        'reel_watched_data': [{\"event_name\": \"reel_watched\", \"timestamp\": 1000000002, \"server_timestamp\": 1000000002, \"user_uid\": \"ML0ZSX\", \"streamer_uid\": \"GV24MY5\", \"reel_uid\": \"881e4c8b-99af-4156-a325-a2068f5bf873\", \"category_uid\": \"bgmi\", \"origin_platform\": \"ios\", \"app_version\": \"5.7.9\", \"reel_watch_duration\": 72, \"reel_duration\": 100, \"replay_count\": 2},\n",
    "                                              {\"event_name\": \"reel_watched\", \"timestamp\": 1000000001, \"server_timestamp\": 1000000001, \"user_uid\": \"ML0ZSX\", \"streamer_uid\": \"GV24MY5\", \"reel_uid\": \"881e4c8b-99af-4156-a325-a2068f5bf873\", \"category_uid\": \"bgmi\", \"origin_platform\": \"ios\", \"app_version\": \"5.7.9\", \"reel_watch_duration\": 36, \"reel_duration\": 100, \"replay_count\": 1}\n",
    "],\n",
    "                        'expected_result': []}\n",
    "\n",
    "    test_unliked_only_event = {'reel_liked_data': [],\n",
    "                          'reel_unliked_data': [],\n",
    "                          'reel_watched_data': [],\n",
    "                          'expected_result': []}\n",
    "\n",
    "    test_only_watched_event = {'reel_liked_data': [],\n",
    "                               'reel_unliked_data': [],\n",
    "                               'reel_watched_data': [],\n",
    "                               'expected_result': []}"
   ]
  },
  {
   "cell_type": "code",
   "execution_count": 232,
   "id": "1cb1042e-4b26-4dea-a064-2e8ca9b8bb44",
   "metadata": {},
   "outputs": [],
   "source": [
    "liked_df = spark.createDataFrame(TestCases.test_liked_only_event['reel_liked_data'])\n",
    "unliked_df = spark.createDataFrame(TestCases.test_liked_only_event['reel_unliked_data'])\n",
    "watched_df = spark.createDataFrame(TestCases.test_liked_only_event['reel_watched_data'])"
   ]
  },
  {
   "cell_type": "code",
   "execution_count": 233,
   "id": "c3ddcf83-a024-4478-be78-e15aed2addcd",
   "metadata": {},
   "outputs": [],
   "source": [
    "# liked_df = spark.CreateDataFrame(Constants.LIKED_PATH)\n",
    "# unliked_df = spark.read.json(Constants.UNLIKED_PATH)\n",
    "# watched_df = spark.read.json(Constants.WATCHED_PATH)"
   ]
  },
  {
   "cell_type": "code",
   "execution_count": 239,
   "id": "8de4c8db-f94e-4977-b5eb-9ae9434aa1d6",
   "metadata": {},
   "outputs": [],
   "source": [
    "from pyspark.sql import functions as F\n",
    "\n",
    "class Clips():\n",
    "    def __init__(self, watched_df, liked_df, unliked_df):\n",
    "        self.watched_df = watched_df\n",
    "        self.liked_df = liked_df\n",
    "        self.unliked_df = unliked_df\n",
    "\n",
    "    def calculate_watched_info(self):\n",
    "        self.watched_df = self.watched_df.withColumn(\n",
    "        \"watched_ratio\",\n",
    "        F.when(\n",
    "            ((F.col(\"origin_platform\") == \"android\") &\n",
    "            (F.col(\"app_version\") >= \"2.3.0\")) | (F.col(\"origin_platform\") == \"ios\"),\n",
    "            F.col(\"reel_watch_duration\") / F.col(\"reel_duration\")\n",
    "        ).otherwise(\n",
    "            F.when(\n",
    "                (F.col(\"origin_platform\") == \"android\") &\n",
    "                (F.col(\"app_version\") < \"2.3.0\") &\n",
    "                (F.col(\"replay_count\") > 0),\n",
    "                (F.col(\"reel_duration\") * F.col(\"replay_count\") + F.col(\"reel_watch_duration\")) / F.col(\"reel_duration\")\n",
    "            )\n",
    "        )\n",
    "    )\n",
    "\n",
    "    def calculate_liked_events(self):\n",
    "        self.liked_events = self.liked_df.groupBy(\"user_uid\", \"reel_uid\").agg(F.max(\"timestamp\").alias(\"liked_timestamp\"))\n",
    "\n",
    "    def calculate_unliked_events(self):\n",
    "        self.unliked_events = self.unliked_df.groupBy(\"user_uid\", \"reel_uid\").agg(F.max(\"timestamp\").alias(\"unliked_timestamp\"))\n",
    "\n",
    "    def calculate_interests(self):\n",
    "        self.interests_df = self.watched_df.join(\n",
    "            self.liked_events,\n",
    "            (self.watched_df[\"user_uid\"] == self.liked_events[\"user_uid\"]) &\n",
    "            (self.watched_df[\"reel_uid\"] == self.liked_events[\"reel_uid\"]) &\n",
    "            (self.watched_df[\"timestamp\"] <= self.liked_events[\"liked_timestamp\"]),\n",
    "            \"left\"\n",
    "        ).join(\n",
    "            self.unliked_events,\n",
    "            (self.watched_df[\"user_uid\"] == self.unliked_events[\"user_uid\"]) &\n",
    "            (self.watched_df[\"reel_uid\"] == self.unliked_events[\"reel_uid\"]) &\n",
    "            (self.watched_df[\"timestamp\"] <= self.unliked_events[\"unliked_timestamp\"]),\n",
    "            \"left\"\n",
    "        ).withColumn(\n",
    "            \"liked\",\n",
    "            F.when(F.col(\"liked_timestamp\").isNotNull() & (F.col(\"liked_timestamp\") >= F.col(\"unliked_timestamp\")), True).otherwise(False)\n",
    "        ).withColumn(\n",
    "            \"unliked\",\n",
    "            F.when(F.col(\"unliked_timestamp\").isNotNull() & (F.col(\"unliked_timestamp\") >= F.col(\"liked_timestamp\")), True).otherwise(False)\n",
    "        ).withColumn(\n",
    "        \"is_interested\",\n",
    "        F.when(\n",
    "            F.col(\"unliked\"),\n",
    "            False\n",
    "        ).otherwise(\n",
    "            F.when(\n",
    "                F.col(\"liked\"),\n",
    "                True\n",
    "            ).otherwise(\n",
    "                F.when(\n",
    "                    (~F.col(\"liked\") & ~F.col(\"unliked\")) &\n",
    "                    (F.col(\"watched_ratio\") > 0.6),\n",
    "                    True\n",
    "                ).otherwise(False)\n",
    "            )\n",
    "        )).select(\n",
    "                self.watched_df[\"user_uid\"],\n",
    "                self.watched_df[\"reel_uid\"],\n",
    "                self.watched_df[\"timestamp\"],\n",
    "                \"liked\",\n",
    "                \"unliked\",\n",
    "                \"watched_ratio\",\n",
    "                \"is_interested\"\n",
    "            )\n",
    "\n",
    "    def get_latest_interests(self):\n",
    "        latest_status_df = self.interests_df.groupBy(\"user_uid\", \"reel_uid\").agg(\n",
    "                            F.max(\"timestamp\").alias(\"latest_timestamp\")\n",
    "                        )\n",
    "\n",
    "        self.interests_df = self.interests_df.join(\n",
    "                        latest_status_df,\n",
    "                        (self.interests_df[\"user_uid\"] == latest_status_df[\"user_uid\"]) &\n",
    "                        (self.interests_df[\"reel_uid\"] == latest_status_df[\"reel_uid\"]) &\n",
    "                        (self.interests_df[\"timestamp\"] == latest_status_df[\"latest_timestamp\"]),\n",
    "                        \"inner\"\n",
    "                    )\n",
    "\n",
    "    def run(self):\n",
    "        self.calculate_liked_events()\n",
    "        self.calculate_unliked_events()\n",
    "        self.calculate_watched_info()\n",
    "        self.calculate_interests()\n",
    "        self.get_latest_interests()"
   ]
  },
  {
   "cell_type": "code",
   "execution_count": 240,
   "id": "290aa230-315d-4ae6-8f92-f800a96a3ae4",
   "metadata": {},
   "outputs": [],
   "source": [
    "cl = Clips(watched_df, liked_df, unliked_df)"
   ]
  },
  {
   "cell_type": "code",
   "execution_count": 241,
   "id": "07f3d197-2c25-4720-b550-b6d6785c4281",
   "metadata": {},
   "outputs": [],
   "source": [
    "cl.run()"
   ]
  },
  {
   "cell_type": "code",
   "execution_count": 243,
   "id": "26148940-cf80-45ec-8f95-8ac71a789a7f",
   "metadata": {},
   "outputs": [
    {
     "data": {
      "text/plain": [
       "{'user_uid': 'ML0ZSX',\n",
       " 'reel_uid': '881e4c8b-99af-4156-a325-a2068f5bf873',\n",
       " 'timestamp': 1000000002,\n",
       " 'liked': True,\n",
       " 'unliked': False,\n",
       " 'watched_ratio': 0.72,\n",
       " 'is_interested': True,\n",
       " 'latest_timestamp': 1000000002}"
      ]
     },
     "execution_count": 243,
     "metadata": {},
     "output_type": "execute_result"
    }
   ],
   "source": [
    "cl.interests_df.rdd.map(lambda x : x.asDict(True)).take(1)[0]"
   ]
  },
  {
   "cell_type": "code",
   "execution_count": 230,
   "id": "697a2dcc-3431-47c7-ae88-2a655a32a781",
   "metadata": {},
   "outputs": [
    {
     "name": "stdout",
     "output_type": "stream",
     "text": [
      "+-----------+------------+------------+---------------+-------------+------------------------------------+-------------------+------------+----------------+------------+----------+--------+-------------+\n",
      "|app_version|category_uid|event_name  |origin_platform|reel_duration|reel_uid                            |reel_watch_duration|replay_count|server_timestamp|streamer_uid|timestamp |user_uid|watched_ratio|\n",
      "+-----------+------------+------------+---------------+-------------+------------------------------------+-------------------+------------+----------------+------------+----------+--------+-------------+\n",
      "|5.7.9      |bgmi        |reel_watched|ios            |100          |881e4c8b-99af-4156-a325-a2068f5bf874|72                 |2           |1000000002      |GV24MY5     |1000000002|ML0ZSX  |0.72         |\n",
      "|5.7.9      |bgmi        |reel_watched|ios            |100          |881e4c8b-99af-4156-a325-a2068f5bf874|36                 |1           |1000000001      |GV24MY5     |1000000001|ML0ZSX  |0.36         |\n",
      "+-----------+------------+------------+---------------+-------------+------------------------------------+-------------------+------------+----------------+------------+----------+--------+-------------+\n",
      "\n"
     ]
    }
   ],
   "source": [
    "cl.watched_df.show(truncate=False)"
   ]
  },
  {
   "cell_type": "code",
   "execution_count": 114,
   "id": "f5adb6df-4dd4-4f52-80bf-4137a3856890",
   "metadata": {},
   "outputs": [
    {
     "ename": "SyntaxError",
     "evalue": "incomplete input (821100100.py, line 1)",
     "output_type": "error",
     "traceback": [
      "\u001b[0;36m  Cell \u001b[0;32mIn[114], line 1\u001b[0;36m\u001b[0m\n\u001b[0;31m    interests.interests_df.withColumn(\"max_timestamp\", F.max(F.col(\"timestamp\").over(Window.partitionBy(F.col(\"user_uid\"), F.col(\"reel_uid\")))).show(truncate=False)\u001b[0m\n\u001b[0m                                                                                                                                                                    ^\u001b[0m\n\u001b[0;31mSyntaxError\u001b[0m\u001b[0;31m:\u001b[0m incomplete input\n"
     ]
    }
   ],
   "source": [
    "interests.interests_df.withColumn(\"max_timestamp\", F.max(F.col(\"timestamp\").over(Window.partitionBy(F.col(\"user_uid\"), F.col(\"reel_uid\")))).show(truncate=False)"
   ]
  },
  {
   "cell_type": "code",
   "execution_count": 85,
   "id": "14bbab1b-620a-45a8-8f52-d8f8fe028c26",
   "metadata": {},
   "outputs": [
    {
     "ename": "AnalysisException",
     "evalue": "[AMBIGUOUS_REFERENCE] Reference `user_uid` is ambiguous, could be: [`user_uid`, `user_uid`, `user_uid`].; line 1 pos 0",
     "output_type": "error",
     "traceback": [
      "\u001b[0;31m---------------------------------------------------------------------------\u001b[0m",
      "\u001b[0;31mAnalysisException\u001b[0m                         Traceback (most recent call last)",
      "Cell \u001b[0;32mIn[85], line 1\u001b[0m\n\u001b[0;32m----> 1\u001b[0m \u001b[43minterests\u001b[49m\u001b[38;5;241;43m.\u001b[39;49m\u001b[43minterests_df\u001b[49m\u001b[38;5;241;43m.\u001b[39;49m\u001b[43mwhere\u001b[49m\u001b[43m(\u001b[49m\u001b[38;5;124;43m\"\u001b[39;49m\u001b[38;5;124;43muser_uid = \u001b[39;49m\u001b[38;5;124;43m'\u001b[39;49m\u001b[38;5;124;43mML0ZSX\u001b[39;49m\u001b[38;5;124;43m'\u001b[39;49m\u001b[38;5;124;43m and reel_uid = \u001b[39;49m\u001b[38;5;124;43m'\u001b[39;49m\u001b[38;5;124;43mea783208-7a04-4740-b6bb-0a79e16967a9\u001b[39;49m\u001b[38;5;124;43m'\u001b[39;49m\u001b[38;5;124;43m\"\u001b[39;49m\u001b[43m)\u001b[49m\u001b[38;5;241m.\u001b[39mshow(truncate\u001b[38;5;241m=\u001b[39m\u001b[38;5;28;01mFalse\u001b[39;00m)\n",
      "File \u001b[0;32m/opt/homebrew/lib/python3.11/site-packages/pyspark/sql/dataframe.py:3136\u001b[0m, in \u001b[0;36mDataFrame.filter\u001b[0;34m(self, condition)\u001b[0m\n\u001b[1;32m   3080\u001b[0m \u001b[38;5;250m\u001b[39m\u001b[38;5;124;03m\"\"\"Filters rows using the given condition.\u001b[39;00m\n\u001b[1;32m   3081\u001b[0m \n\u001b[1;32m   3082\u001b[0m \u001b[38;5;124;03m:func:`where` is an alias for :func:`filter`.\u001b[39;00m\n\u001b[0;32m   (...)\u001b[0m\n\u001b[1;32m   3133\u001b[0m \u001b[38;5;124;03m+---+-----+\u001b[39;00m\n\u001b[1;32m   3134\u001b[0m \u001b[38;5;124;03m\"\"\"\u001b[39;00m\n\u001b[1;32m   3135\u001b[0m \u001b[38;5;28;01mif\u001b[39;00m \u001b[38;5;28misinstance\u001b[39m(condition, \u001b[38;5;28mstr\u001b[39m):\n\u001b[0;32m-> 3136\u001b[0m     jdf \u001b[38;5;241m=\u001b[39m \u001b[38;5;28;43mself\u001b[39;49m\u001b[38;5;241;43m.\u001b[39;49m\u001b[43m_jdf\u001b[49m\u001b[38;5;241;43m.\u001b[39;49m\u001b[43mfilter\u001b[49m\u001b[43m(\u001b[49m\u001b[43mcondition\u001b[49m\u001b[43m)\u001b[49m\n\u001b[1;32m   3137\u001b[0m \u001b[38;5;28;01melif\u001b[39;00m \u001b[38;5;28misinstance\u001b[39m(condition, Column):\n\u001b[1;32m   3138\u001b[0m     jdf \u001b[38;5;241m=\u001b[39m \u001b[38;5;28mself\u001b[39m\u001b[38;5;241m.\u001b[39m_jdf\u001b[38;5;241m.\u001b[39mfilter(condition\u001b[38;5;241m.\u001b[39m_jc)\n",
      "File \u001b[0;32m/opt/homebrew/lib/python3.11/site-packages/py4j/java_gateway.py:1322\u001b[0m, in \u001b[0;36mJavaMember.__call__\u001b[0;34m(self, *args)\u001b[0m\n\u001b[1;32m   1316\u001b[0m command \u001b[38;5;241m=\u001b[39m proto\u001b[38;5;241m.\u001b[39mCALL_COMMAND_NAME \u001b[38;5;241m+\u001b[39m\\\n\u001b[1;32m   1317\u001b[0m     \u001b[38;5;28mself\u001b[39m\u001b[38;5;241m.\u001b[39mcommand_header \u001b[38;5;241m+\u001b[39m\\\n\u001b[1;32m   1318\u001b[0m     args_command \u001b[38;5;241m+\u001b[39m\\\n\u001b[1;32m   1319\u001b[0m     proto\u001b[38;5;241m.\u001b[39mEND_COMMAND_PART\n\u001b[1;32m   1321\u001b[0m answer \u001b[38;5;241m=\u001b[39m \u001b[38;5;28mself\u001b[39m\u001b[38;5;241m.\u001b[39mgateway_client\u001b[38;5;241m.\u001b[39msend_command(command)\n\u001b[0;32m-> 1322\u001b[0m return_value \u001b[38;5;241m=\u001b[39m \u001b[43mget_return_value\u001b[49m\u001b[43m(\u001b[49m\n\u001b[1;32m   1323\u001b[0m \u001b[43m    \u001b[49m\u001b[43manswer\u001b[49m\u001b[43m,\u001b[49m\u001b[43m \u001b[49m\u001b[38;5;28;43mself\u001b[39;49m\u001b[38;5;241;43m.\u001b[39;49m\u001b[43mgateway_client\u001b[49m\u001b[43m,\u001b[49m\u001b[43m \u001b[49m\u001b[38;5;28;43mself\u001b[39;49m\u001b[38;5;241;43m.\u001b[39;49m\u001b[43mtarget_id\u001b[49m\u001b[43m,\u001b[49m\u001b[43m \u001b[49m\u001b[38;5;28;43mself\u001b[39;49m\u001b[38;5;241;43m.\u001b[39;49m\u001b[43mname\u001b[49m\u001b[43m)\u001b[49m\n\u001b[1;32m   1325\u001b[0m \u001b[38;5;28;01mfor\u001b[39;00m temp_arg \u001b[38;5;129;01min\u001b[39;00m temp_args:\n\u001b[1;32m   1326\u001b[0m     \u001b[38;5;28;01mif\u001b[39;00m \u001b[38;5;28mhasattr\u001b[39m(temp_arg, \u001b[38;5;124m\"\u001b[39m\u001b[38;5;124m_detach\u001b[39m\u001b[38;5;124m\"\u001b[39m):\n",
      "File \u001b[0;32m/opt/homebrew/lib/python3.11/site-packages/pyspark/errors/exceptions/captured.py:175\u001b[0m, in \u001b[0;36mcapture_sql_exception.<locals>.deco\u001b[0;34m(*a, **kw)\u001b[0m\n\u001b[1;32m    171\u001b[0m converted \u001b[38;5;241m=\u001b[39m convert_exception(e\u001b[38;5;241m.\u001b[39mjava_exception)\n\u001b[1;32m    172\u001b[0m \u001b[38;5;28;01mif\u001b[39;00m \u001b[38;5;129;01mnot\u001b[39;00m \u001b[38;5;28misinstance\u001b[39m(converted, UnknownException):\n\u001b[1;32m    173\u001b[0m     \u001b[38;5;66;03m# Hide where the exception came from that shows a non-Pythonic\u001b[39;00m\n\u001b[1;32m    174\u001b[0m     \u001b[38;5;66;03m# JVM exception message.\u001b[39;00m\n\u001b[0;32m--> 175\u001b[0m     \u001b[38;5;28;01mraise\u001b[39;00m converted \u001b[38;5;28;01mfrom\u001b[39;00m \u001b[38;5;28;01mNone\u001b[39;00m\n\u001b[1;32m    176\u001b[0m \u001b[38;5;28;01melse\u001b[39;00m:\n\u001b[1;32m    177\u001b[0m     \u001b[38;5;28;01mraise\u001b[39;00m\n",
      "\u001b[0;31mAnalysisException\u001b[0m: [AMBIGUOUS_REFERENCE] Reference `user_uid` is ambiguous, could be: [`user_uid`, `user_uid`, `user_uid`].; line 1 pos 0"
     ]
    }
   ],
   "source": [
    "interests.interests_df.where(\"user_uid = 'ML0ZSX' and reel_uid = 'ea783208-7a04-4740-b6bb-0a79e16967a9'\").show(truncate=False)"
   ]
  },
  {
   "cell_type": "code",
   "execution_count": 37,
   "id": "32a2ba7e-8cab-4d86-91d9-e454f3b9124e",
   "metadata": {},
   "outputs": [
    {
     "name": "stdout",
     "output_type": "stream",
     "text": [
      "+-----------+------------+----------+---------+---------------+-------------+------------------------------------+----------------+------------+----------+--------+\n",
      "|app_version|category_uid|event_name|like_time|origin_platform|reel_duration|reel_uid                            |server_timestamp|streamer_uid|timestamp |user_uid|\n",
      "+-----------+------------+----------+---------+---------------+-------------+------------------------------------+----------------+------------+----------+--------+\n",
      "|5.7.9      |freefire    |reel_liked|41       |ios            |101          |ea783208-7a04-4740-b6bb-0a79e16967a9|1682907843      |OHK73W2     |1682907833|ML0ZSX  |\n",
      "|5.7.9      |freefire    |reel_liked|94       |ios            |101          |ea783208-7a04-4740-b6bb-0a79e16967a9|1682921251      |OHK73W2     |1682921242|ML0ZSX  |\n",
      "|5.7.9      |freefire    |reel_liked|33       |ios            |101          |ea783208-7a04-4740-b6bb-0a79e16967a9|1682921444      |OHK73W2     |1682921429|ML0ZSX  |\n",
      "|5.7.9      |freefire    |reel_liked|44       |ios            |101          |ea783208-7a04-4740-b6bb-0a79e16967a9|1682902179      |OHK73W2     |1682902214|ML0ZSX  |\n",
      "|5.7.9      |freefire    |reel_liked|76       |ios            |101          |ea783208-7a04-4740-b6bb-0a79e16967a9|1682902594      |OHK73W2     |1682902580|ML0ZSX  |\n",
      "|5.7.9      |freefire    |reel_liked|49       |ios            |101          |ea783208-7a04-4740-b6bb-0a79e16967a9|1682954836      |OHK73W2     |1682923110|ML0ZSX  |\n",
      "|5.7.9      |freefire    |reel_liked|58       |ios            |101          |ea783208-7a04-4740-b6bb-0a79e16967a9|1682911453      |OHK73W2     |1682911438|ML0ZSX  |\n",
      "|5.7.9      |freefire    |reel_liked|85       |ios            |101          |ea783208-7a04-4740-b6bb-0a79e16967a9|1682911568      |OHK73W2     |1682911566|ML0ZSX  |\n",
      "|5.7.9      |freefire    |reel_liked|73       |ios            |101          |ea783208-7a04-4740-b6bb-0a79e16967a9|1682912243      |OHK73W2     |1682912221|ML0ZSX  |\n",
      "|5.7.9      |freefire    |reel_liked|99       |ios            |101          |ea783208-7a04-4740-b6bb-0a79e16967a9|1682916928      |OHK73W2     |1682916926|ML0ZSX  |\n",
      "|5.7.9      |freefire    |reel_liked|3        |ios            |101          |ea783208-7a04-4740-b6bb-0a79e16967a9|1682936612      |OHK73W2     |1682936591|ML0ZSX  |\n",
      "|5.7.9      |freefire    |reel_liked|14       |ios            |101          |ea783208-7a04-4740-b6bb-0a79e16967a9|1682936590      |OHK73W2     |1682936565|ML0ZSX  |\n",
      "|5.7.9      |freefire    |reel_liked|59       |ios            |101          |ea783208-7a04-4740-b6bb-0a79e16967a9|1682913873      |OHK73W2     |1682913861|ML0ZSX  |\n",
      "|5.7.9      |freefire    |reel_liked|2        |ios            |101          |ea783208-7a04-4740-b6bb-0a79e16967a9|1682914091      |OHK73W2     |1682914084|ML0ZSX  |\n",
      "|5.7.9      |freefire    |reel_liked|59       |ios            |101          |ea783208-7a04-4740-b6bb-0a79e16967a9|1682914632      |OHK73W2     |1682914625|ML0ZSX  |\n",
      "|5.7.9      |freefire    |reel_liked|35       |ios            |101          |ea783208-7a04-4740-b6bb-0a79e16967a9|1682971799      |OHK73W2     |1682971795|ML0ZSX  |\n",
      "|5.7.9      |freefire    |reel_liked|83       |ios            |101          |ea783208-7a04-4740-b6bb-0a79e16967a9|1682930088      |OHK73W2     |1682930079|ML0ZSX  |\n",
      "|5.7.9      |freefire    |reel_liked|38       |ios            |101          |ea783208-7a04-4740-b6bb-0a79e16967a9|1682915512      |OHK73W2     |1682915494|ML0ZSX  |\n",
      "|5.7.9      |freefire    |reel_liked|64       |ios            |101          |ea783208-7a04-4740-b6bb-0a79e16967a9|1682915149      |OHK73W2     |1682915129|ML0ZSX  |\n",
      "|5.7.9      |freefire    |reel_liked|32       |ios            |101          |ea783208-7a04-4740-b6bb-0a79e16967a9|1682915605      |OHK73W2     |1682915598|ML0ZSX  |\n",
      "+-----------+------------+----------+---------+---------------+-------------+------------------------------------+----------------+------------+----------+--------+\n",
      "only showing top 20 rows\n",
      "\n"
     ]
    }
   ],
   "source": [
    "liked_df.where(\"user_uid = 'ML0ZSX' and reel_uid = 'ea783208-7a04-4740-b6bb-0a79e16967a9'\").show(truncate=False)"
   ]
  },
  {
   "cell_type": "code",
   "execution_count": 131,
   "id": "ccca1750-c69d-44fe-9639-6b182769d5dd",
   "metadata": {},
   "outputs": [
    {
     "name": "stdout",
     "output_type": "stream",
     "text": [
      "+-----------+------------+------------+---------------+-------------+------------------------------------+-------------------+------------+----------------+------------+----------+--------+-------------------+\n",
      "|app_version|category_uid|event_name  |origin_platform|reel_duration|reel_uid                            |reel_watch_duration|replay_count|server_timestamp|streamer_uid|timestamp |user_uid|watched_ratio      |\n",
      "+-----------+------------+------------+---------------+-------------+------------------------------------+-------------------+------------+----------------+------------+----------+--------+-------------------+\n",
      "|2.3.0      |freefire    |reel_watched|android        |101          |ea783208-7a04-4740-b6bb-0a79e16967a9|33                 |0           |1682938906      |OHK73W2     |1682938905|ABNRHP  |0.32673267326732675|\n",
      "|5.7.9      |bgmi        |reel_watched|ios            |61           |881e4c8b-99af-4156-a325-a2068f5bf873|33                 |0           |1682938907      |GV24MY5     |1682938887|ML0ZSX  |0.5409836065573771 |\n",
      "|5.7.9      |bgmi        |reel_watched|ios            |61           |881e4c8b-99af-4156-a325-a2068f5bf873|9                  |0           |1682938954      |GV24MY5     |1682938911|ML0ZSX  |0.14754098360655737|\n",
      "|2.3.0      |bgmi        |reel_watched|android        |71           |b02b9538-5627-47cf-a5c8-b8dae3298304|11                 |0           |1682938996      |3SQWQPN     |1682939007|ABNRHP  |0.15492957746478872|\n",
      "|2.3.0      |freefire    |reel_watched|android        |101          |ea783208-7a04-4740-b6bb-0a79e16967a9|32                 |0           |1682939134      |OHK73W2     |1682939127|ABNRHP  |0.31683168316831684|\n",
      "|2.3.0      |freefire    |reel_watched|android        |101          |ea783208-7a04-4740-b6bb-0a79e16967a9|60                 |0           |1682939139      |OHK73W2     |1682939125|ABNRHP  |0.594059405940594  |\n",
      "|2.3.0      |bgmi        |reel_watched|android        |61           |881e4c8b-99af-4156-a325-a2068f5bf873|26                 |0           |1682939145      |GV24MY5     |1682939138|ABNRHP  |0.4262295081967213 |\n",
      "|5.7.9      |bgmi        |reel_watched|ios            |61           |881e4c8b-99af-4156-a325-a2068f5bf873|4                  |0           |1682939328      |GV24MY5     |1682939320|ML0ZSX  |0.06557377049180328|\n",
      "|2.3.2      |bgmi        |reel_watched|android        |61           |881e4c8b-99af-4156-a325-a2068f5bf873|12                 |0           |1682939507      |GV24MY5     |1682939355|2S89IY  |0.19672131147540983|\n",
      "|2.3.2      |bgmi        |reel_watched|android        |61           |881e4c8b-99af-4156-a325-a2068f5bf873|18                 |0           |1682939648      |GV24MY5     |1682939632|2S89IY  |0.29508196721311475|\n",
      "|5.7.1      |freefire    |reel_watched|ios            |101          |ea783208-7a04-4740-b6bb-0a79e16967a9|58                 |0           |1682938997      |OHK73W2     |1682938976|9UASVK  |0.5742574257425742 |\n",
      "|5.7.1      |bgmi        |reel_watched|ios            |61           |881e4c8b-99af-4156-a325-a2068f5bf873|2                  |0           |1682939006      |GV24MY5     |1682938985|9UASVK  |0.03278688524590164|\n",
      "|5.7.9      |freefire    |reel_watched|ios            |101          |ea783208-7a04-4740-b6bb-0a79e16967a9|23                 |0           |1682939355      |OHK73W2     |1682939334|ML0ZSX  |0.22772277227722773|\n",
      "|5.7.1      |bgmi        |reel_watched|ios            |61           |881e4c8b-99af-4156-a325-a2068f5bf873|32                 |0           |1682939301      |GV24MY5     |1682939280|9UASVK  |0.5245901639344263 |\n",
      "|2.3.0      |ludo        |reel_watched|android        |10           |8f5f09ae-31fe-47a3-88c9-6c3c79b0485f|2                  |0           |1682939449      |FHVDE61     |1682939433|ABNRHP  |0.2                |\n",
      "|5.7.1      |bgmi        |reel_watched|ios            |61           |881e4c8b-99af-4156-a325-a2068f5bf873|27                 |0           |1682939564      |GV24MY5     |1682939561|9UASVK  |0.4426229508196721 |\n",
      "|2.3.0      |bgmi        |reel_watched|android        |61           |881e4c8b-99af-4156-a325-a2068f5bf873|0                  |0           |1682939731      |GV24MY5     |1682939710|ABNRHP  |0.0                |\n",
      "|2.3.0      |freefire    |reel_watched|android        |101          |ea783208-7a04-4740-b6bb-0a79e16967a9|26                 |0           |1682939752      |OHK73W2     |1682939739|ABNRHP  |0.25742574257425743|\n",
      "|2.3.0      |bgmi        |reel_watched|android        |61           |881e4c8b-99af-4156-a325-a2068f5bf873|1                  |0           |1682939753      |GV24MY5     |1682939751|ABNRHP  |0.01639344262295082|\n",
      "|5.7.1      |bgmi        |reel_watched|ios            |61           |881e4c8b-99af-4156-a325-a2068f5bf873|36                 |0           |1682939753      |GV24MY5     |1682939735|9UASVK  |0.5901639344262295 |\n",
      "+-----------+------------+------------+---------------+-------------+------------------------------------+-------------------+------------+----------------+------------+----------+--------+-------------------+\n",
      "only showing top 20 rows\n",
      "\n"
     ]
    }
   ],
   "source": [
    "ws.watched_df.where(\"watched_ratio < 0.6\").show(truncate=False)"
   ]
  },
  {
   "cell_type": "code",
   "execution_count": 41,
   "id": "807b167e-e50e-4aeb-b8a1-fa2fbfa7f2f6",
   "metadata": {},
   "outputs": [
    {
     "name": "stdout",
     "output_type": "stream",
     "text": [
      "+-----------+------------+------------+---------------+-------------+------------------------------------+-------------------+------------+----------------+------------+----------+--------+-------------------+\n",
      "|app_version|category_uid|event_name  |origin_platform|reel_duration|reel_uid                            |reel_watch_duration|replay_count|server_timestamp|streamer_uid|timestamp |user_uid|watched_ratio      |\n",
      "+-----------+------------+------------+---------------+-------------+------------------------------------+-------------------+------------+----------------+------------+----------+--------+-------------------+\n",
      "|5.7.9      |freefire    |reel_watched|ios            |101          |ea783208-7a04-4740-b6bb-0a79e16967a9|361                |3           |1682938915      |OHK73W2     |1682938894|ML0ZSX  |3.5742574257425743 |\n",
      "|5.7.9      |freefire    |reel_watched|ios            |101          |ea783208-7a04-4740-b6bb-0a79e16967a9|225                |2           |1682939642      |OHK73W2     |1682939635|ML0ZSX  |2.227722772277228  |\n",
      "|5.7.9      |freefire    |reel_watched|ios            |101          |ea783208-7a04-4740-b6bb-0a79e16967a9|23                 |0           |1682939355      |OHK73W2     |1682939334|ML0ZSX  |0.22772277227722773|\n",
      "|5.7.9      |freefire    |reel_watched|ios            |101          |ea783208-7a04-4740-b6bb-0a79e16967a9|202                |2           |1682939159      |OHK73W2     |1682939157|ML0ZSX  |2.0                |\n",
      "|5.7.9      |freefire    |reel_watched|ios            |101          |ea783208-7a04-4740-b6bb-0a79e16967a9|154                |1           |1682939406      |OHK73W2     |1682939397|ML0ZSX  |1.5247524752475248 |\n",
      "|5.7.9      |freefire    |reel_watched|ios            |101          |ea783208-7a04-4740-b6bb-0a79e16967a9|324                |3           |1682939568      |OHK73W2     |1682939559|ML0ZSX  |3.207920792079208  |\n",
      "|5.7.9      |freefire    |reel_watched|ios            |101          |ea783208-7a04-4740-b6bb-0a79e16967a9|148                |1           |1682939693      |OHK73W2     |1682939786|ML0ZSX  |1.4653465346534653 |\n",
      "|5.7.9      |freefire    |reel_watched|ios            |101          |ea783208-7a04-4740-b6bb-0a79e16967a9|322                |3           |1682939752      |OHK73W2     |1682939736|ML0ZSX  |3.1881188118811883 |\n",
      "|5.7.9      |freefire    |reel_watched|ios            |101          |ea783208-7a04-4740-b6bb-0a79e16967a9|162                |1           |1682939877      |OHK73W2     |1682939872|ML0ZSX  |1.603960396039604  |\n",
      "|5.7.9      |freefire    |reel_watched|ios            |101          |ea783208-7a04-4740-b6bb-0a79e16967a9|151                |1           |1682940146      |OHK73W2     |1682940125|ML0ZSX  |1.495049504950495  |\n",
      "|5.7.9      |freefire    |reel_watched|ios            |101          |ea783208-7a04-4740-b6bb-0a79e16967a9|246                |2           |1682939901      |OHK73W2     |1682939859|ML0ZSX  |2.4356435643564356 |\n",
      "|5.7.9      |freefire    |reel_watched|ios            |101          |ea783208-7a04-4740-b6bb-0a79e16967a9|323                |3           |1682939284      |OHK73W2     |1682939263|ML0ZSX  |3.198019801980198  |\n",
      "|5.7.9      |freefire    |reel_watched|ios            |101          |ea783208-7a04-4740-b6bb-0a79e16967a9|181                |1           |1682939449      |OHK73W2     |1682939435|ML0ZSX  |1.7920792079207921 |\n",
      "|5.7.9      |freefire    |reel_watched|ios            |101          |ea783208-7a04-4740-b6bb-0a79e16967a9|160                |1           |1682939746      |OHK73W2     |1682939742|ML0ZSX  |1.5841584158415842 |\n",
      "|5.7.9      |freefire    |reel_watched|ios            |101          |ea783208-7a04-4740-b6bb-0a79e16967a9|181                |1           |1682939855      |OHK73W2     |1682939834|ML0ZSX  |1.7920792079207921 |\n",
      "|5.7.9      |freefire    |reel_watched|ios            |101          |ea783208-7a04-4740-b6bb-0a79e16967a9|45                 |0           |1682939671      |OHK73W2     |1682939656|ML0ZSX  |0.44554455445544555|\n",
      "|5.7.9      |freefire    |reel_watched|ios            |101          |ea783208-7a04-4740-b6bb-0a79e16967a9|44                 |0           |1682939721      |OHK73W2     |1682939653|ML0ZSX  |0.43564356435643564|\n",
      "|5.7.9      |freefire    |reel_watched|ios            |101          |ea783208-7a04-4740-b6bb-0a79e16967a9|112                |1           |1682940083      |OHK73W2     |1682940062|ML0ZSX  |1.108910891089109  |\n",
      "|5.7.9      |freefire    |reel_watched|ios            |101          |ea783208-7a04-4740-b6bb-0a79e16967a9|341                |3           |1682939531      |OHK73W2     |1682939510|ML0ZSX  |3.376237623762376  |\n",
      "|5.7.9      |freefire    |reel_watched|ios            |101          |ea783208-7a04-4740-b6bb-0a79e16967a9|121                |1           |1682939634      |OHK73W2     |1682939612|ML0ZSX  |1.198019801980198  |\n",
      "+-----------+------------+------------+---------------+-------------+------------------------------------+-------------------+------------+----------------+------------+----------+--------+-------------------+\n",
      "only showing top 20 rows\n",
      "\n"
     ]
    }
   ],
   "source": [
    "ws.watched_df.where(\"user_uid = 'ML0ZSX' and reel_uid = 'ea783208-7a04-4740-b6bb-0a79e16967a9'\").show(truncate=False)"
   ]
  },
  {
   "cell_type": "code",
   "execution_count": 28,
   "id": "f6dd96df-db8f-4d08-8468-e2578e6dbdf4",
   "metadata": {},
   "outputs": [
    {
     "name": "stdout",
     "output_type": "stream",
     "text": [
      "+-----------+------------+------------+---------------+-------------+--------------------+-------------------+------------+----------------+------------+----------+--------+-------------------+\n",
      "|app_version|category_uid|  event_name|origin_platform|reel_duration|            reel_uid|reel_watch_duration|replay_count|server_timestamp|streamer_uid| timestamp|user_uid|      watched_ratio|\n",
      "+-----------+------------+------------+---------------+-------------+--------------------+-------------------+------------+----------------+------------+----------+--------+-------------------+\n",
      "|      1.7.8|    freefire|reel_watched|        android|          120|578cf68e-3b2e-492...|                 17|           1|      1682942397|     9UWROC5|1682942384|  S5128I| 1.1416666666666666|\n",
      "|      1.7.8|        bgmi|reel_watched|        android|           61|881e4c8b-99af-415...|                  0|           1|      1682938874|     GV24MY5|1682938853|  S5128I|                1.0|\n",
      "|      1.7.8|        bgmi|reel_watched|        android|           61|881e4c8b-99af-415...|                 20|           3|      1682938868|     GV24MY5|1682938851|  S5128I| 3.3278688524590163|\n",
      "|      2.3.0|    freefire|reel_watched|        android|          101|ea783208-7a04-474...|                 33|           0|      1682938906|     OHK73W2|1682938905|  ABNRHP|0.32673267326732675|\n",
      "|      1.7.8|        bgmi|reel_watched|        android|           61|881e4c8b-99af-415...|                 12|           2|      1682938944|     GV24MY5|1682938932|  S5128I|   2.19672131147541|\n",
      "|      5.7.9|        ludo|reel_watched|            ios|           10|8f5f09ae-31fe-47a...|                 36|           3|      1682938922|     FHVDE61|1682938899|  ML0ZSX|                3.6|\n",
      "|      5.7.9|    freefire|reel_watched|            ios|          101|ea783208-7a04-474...|                361|           3|      1682938915|     OHK73W2|1682938894|  ML0ZSX| 3.5742574257425743|\n",
      "|      5.7.9|        bgmi|reel_watched|            ios|           61|881e4c8b-99af-415...|                 33|           0|      1682938907|     GV24MY5|1682938887|  ML0ZSX| 0.5409836065573771|\n",
      "|      2.3.0|        bgmi|reel_watched|        android|           61|881e4c8b-99af-415...|                234|           3|      1682938923|     GV24MY5|1682938914|  ABNRHP| 3.8360655737704916|\n",
      "|      2.3.0|    freefire|reel_watched|        android|          101|ea783208-7a04-474...|                158|           1|      1682938952|     OHK73W2|1682938931|  ABNRHP| 1.5643564356435644|\n",
      "|      5.7.9|        ludo|reel_watched|            ios|           10|8f5f09ae-31fe-47a...|                 34|           3|      1682938954|     FHVDE61|1682938893|  ML0ZSX|                3.4|\n",
      "|      5.7.9|        bgmi|reel_watched|            ios|           61|881e4c8b-99af-415...|                  9|           0|      1682938954|     GV24MY5|1682938911|  ML0ZSX|0.14754098360655737|\n",
      "|      2.3.0|    freefire|reel_watched|        android|          101|ea783208-7a04-474...|                 69|           0|      1682938950|     OHK73W2|1682938933|  ABNRHP| 0.6831683168316832|\n",
      "|      2.3.2|    freefire|reel_watched|        android|          120|578cf68e-3b2e-492...|                 79|           0|      1682938915|     9UWROC5|1682938894|  2S89IY| 0.6583333333333333|\n",
      "|      5.7.9|        bgmi|reel_watched|            ios|           61|881e4c8b-99af-415...|                181|           2|      1682938943|     GV24MY5|1682938923|  ML0ZSX| 2.9672131147540983|\n",
      "|      2.3.0|        bgmi|reel_watched|        android|           71|b02b9538-5627-47c...|                 11|           0|      1682938996|     3SQWQPN|1682939007|  ABNRHP|0.15492957746478872|\n",
      "|      2.3.0|        bgmi|reel_watched|        android|           61|881e4c8b-99af-415...|                 82|           1|      1682939084|     GV24MY5|1682875171|  ABNRHP| 1.3442622950819672|\n",
      "|      5.7.9|         gta|reel_watched|            ios|           46|5033a27d-ed9e-4d9...|                166|           3|      1682939087|     9FXJOVE|1682939080|  ML0ZSX|  3.608695652173913|\n",
      "|      2.3.0|    freefire|reel_watched|        android|          101|ea783208-7a04-474...|                 32|           0|      1682939134|     OHK73W2|1682939127|  ABNRHP|0.31683168316831684|\n",
      "|      5.7.1|        bgmi|reel_watched|            ios|           61|881e4c8b-99af-415...|                 66|           1|      1682939122|     GV24MY5|1682939102|  9UASVK| 1.0819672131147542|\n",
      "+-----------+------------+------------+---------------+-------------+--------------------+-------------------+------------+----------------+------------+----------+--------+-------------------+\n",
      "only showing top 20 rows\n",
      "\n"
     ]
    }
   ],
   "source": [
    "ws.watched_df.show()"
   ]
  },
  {
   "cell_type": "code",
   "execution_count": 56,
   "id": "4c7ad2d2-e13a-4dc1-becd-89d68e091eda",
   "metadata": {},
   "outputs": [
    {
     "name": "stdout",
     "output_type": "stream",
     "text": [
      "+--------+------------------------------------+--------------+\n",
      "|user_uid|reel_uid                            |max(timestamp)|\n",
      "+--------+------------------------------------+--------------+\n",
      "|ML0ZSX  |5033a27d-ed9e-4d9a-8bf2-6eb0b39dd90c|1682977842    |\n",
      "|S5128I  |578cf68e-3b2e-492c-9d55-64209729e759|1682975139    |\n",
      "|S5128I  |ea783208-7a04-4740-b6bb-0a79e16967a9|1682984388    |\n",
      "|9UASVK  |b02b9538-5627-47cf-a5c8-b8dae3298304|1682977813    |\n",
      "|2S89IY  |578cf68e-3b2e-492c-9d55-64209729e759|1682985385    |\n",
      "|9UASVK  |881e4c8b-99af-4156-a325-a2068f5bf873|1682984855    |\n",
      "|ABNRHP  |5033a27d-ed9e-4d9a-8bf2-6eb0b39dd90c|1682975511    |\n",
      "|2S89IY  |ea783208-7a04-4740-b6bb-0a79e16967a9|1682984646    |\n",
      "|2S89IY  |5033a27d-ed9e-4d9a-8bf2-6eb0b39dd90c|1682970898    |\n",
      "|ABNRHP  |b02b9538-5627-47cf-a5c8-b8dae3298304|1682972994    |\n",
      "|ABNRHP  |ea783208-7a04-4740-b6bb-0a79e16967a9|1682983349    |\n",
      "|ML0ZSX  |578cf68e-3b2e-492c-9d55-64209729e759|1682971066    |\n",
      "|S5128I  |881e4c8b-99af-4156-a325-a2068f5bf873|1682985853    |\n",
      "|ML0ZSX  |881e4c8b-99af-4156-a325-a2068f5bf873|1683049057    |\n",
      "|S5128I  |5033a27d-ed9e-4d9a-8bf2-6eb0b39dd90c|1682974714    |\n",
      "|2S89IY  |8f5f09ae-31fe-47a3-88c9-6c3c79b0485f|1682985154    |\n",
      "|S5128I  |8f5f09ae-31fe-47a3-88c9-6c3c79b0485f|1682980508    |\n",
      "|ABNRHP  |578cf68e-3b2e-492c-9d55-64209729e759|1682975179    |\n",
      "|ABNRHP  |881e4c8b-99af-4156-a325-a2068f5bf873|1682984309    |\n",
      "|ML0ZSX  |8f5f09ae-31fe-47a3-88c9-6c3c79b0485f|1682984016    |\n",
      "+--------+------------------------------------+--------------+\n",
      "only showing top 20 rows\n",
      "\n"
     ]
    }
   ],
   "source": [
    "liked_df.groupBy(\"user_uid\", \"reel_uid\").agg(F.max(\"timestamp\")).show(truncate=False)"
   ]
  },
  {
   "cell_type": "code",
   "execution_count": 63,
   "id": "1e27409a-2c09-4cf3-b96e-d9a5fcc19131",
   "metadata": {},
   "outputs": [
    {
     "name": "stdout",
     "output_type": "stream",
     "text": [
      "+--------+--------------------+---------------+\n",
      "|user_uid|            reel_uid|liked_timestamp|\n",
      "+--------+--------------------+---------------+\n",
      "|  ML0ZSX|5033a27d-ed9e-4d9...|     1682977842|\n",
      "|  S5128I|578cf68e-3b2e-492...|     1682975139|\n",
      "|  S5128I|ea783208-7a04-474...|     1682984388|\n",
      "|  9UASVK|b02b9538-5627-47c...|     1682977813|\n",
      "|  2S89IY|578cf68e-3b2e-492...|     1682985385|\n",
      "|  9UASVK|881e4c8b-99af-415...|     1682984855|\n",
      "|  ABNRHP|5033a27d-ed9e-4d9...|     1682975511|\n",
      "|  2S89IY|ea783208-7a04-474...|     1682984646|\n",
      "|  2S89IY|5033a27d-ed9e-4d9...|     1682970898|\n",
      "|  ABNRHP|b02b9538-5627-47c...|     1682972994|\n",
      "|  ABNRHP|ea783208-7a04-474...|     1682983349|\n",
      "|  ML0ZSX|578cf68e-3b2e-492...|     1682971066|\n",
      "|  S5128I|881e4c8b-99af-415...|     1682985853|\n",
      "|  ML0ZSX|881e4c8b-99af-415...|     1683049057|\n",
      "|  S5128I|5033a27d-ed9e-4d9...|     1682974714|\n",
      "|  2S89IY|8f5f09ae-31fe-47a...|     1682985154|\n",
      "|  S5128I|8f5f09ae-31fe-47a...|     1682980508|\n",
      "|  ABNRHP|578cf68e-3b2e-492...|     1682975179|\n",
      "|  ABNRHP|881e4c8b-99af-415...|     1682984309|\n",
      "|  ML0ZSX|8f5f09ae-31fe-47a...|     1682984016|\n",
      "+--------+--------------------+---------------+\n",
      "only showing top 20 rows\n",
      "\n"
     ]
    }
   ],
   "source": [
    "ls.liked_events.show()"
   ]
  },
  {
   "cell_type": "code",
   "execution_count": 151,
   "id": "e1fb7a8d-a3cd-430c-ba85-42948d1d71d5",
   "metadata": {},
   "outputs": [
    {
     "name": "stdout",
     "output_type": "stream",
     "text": [
      "+-----------+------------+------------+---------------+-------------+------------------------------------+-------------------+------------+----------------+------------+----------+--------+-------------------+\n",
      "|app_version|category_uid|event_name  |origin_platform|reel_duration|reel_uid                            |reel_watch_duration|replay_count|server_timestamp|streamer_uid|timestamp |user_uid|watched_ratio      |\n",
      "+-----------+------------+------------+---------------+-------------+------------------------------------+-------------------+------------+----------------+------------+----------+--------+-------------------+\n",
      "|5.7.9      |bgmi        |reel_watched|ios            |61           |881e4c8b-99af-4156-a325-a2068f5bf873|33                 |0           |1682938907      |GV24MY5     |1682938887|ML0ZSX  |0.5409836065573771 |\n",
      "|5.7.9      |bgmi        |reel_watched|ios            |61           |881e4c8b-99af-4156-a325-a2068f5bf873|9                  |0           |1682938954      |GV24MY5     |1682938911|ML0ZSX  |0.14754098360655737|\n",
      "|5.7.9      |bgmi        |reel_watched|ios            |61           |881e4c8b-99af-4156-a325-a2068f5bf873|181                |2           |1682938943      |GV24MY5     |1682938923|ML0ZSX  |2.9672131147540983 |\n",
      "|5.7.9      |bgmi        |reel_watched|ios            |61           |881e4c8b-99af-4156-a325-a2068f5bf873|4                  |0           |1682939328      |GV24MY5     |1682939320|ML0ZSX  |0.06557377049180328|\n",
      "|5.7.9      |bgmi        |reel_watched|ios            |61           |881e4c8b-99af-4156-a325-a2068f5bf873|196                |3           |1682939332      |GV24MY5     |1682877743|ML0ZSX  |3.2131147540983607 |\n",
      "|5.7.9      |bgmi        |reel_watched|ios            |61           |881e4c8b-99af-4156-a325-a2068f5bf873|56                 |0           |1682938953      |GV24MY5     |1682938932|ML0ZSX  |0.9180327868852459 |\n",
      "|5.7.9      |bgmi        |reel_watched|ios            |61           |881e4c8b-99af-4156-a325-a2068f5bf873|51                 |0           |1682939022      |GV24MY5     |1682939001|ML0ZSX  |0.8360655737704918 |\n",
      "|5.7.9      |bgmi        |reel_watched|ios            |61           |881e4c8b-99af-4156-a325-a2068f5bf873|235                |3           |1682939078      |GV24MY5     |1682939075|ML0ZSX  |3.8524590163934427 |\n",
      "|5.7.9      |bgmi        |reel_watched|ios            |61           |881e4c8b-99af-4156-a325-a2068f5bf873|157                |2           |1682939102      |GV24MY5     |1682939081|ML0ZSX  |2.5737704918032787 |\n",
      "|5.7.9      |bgmi        |reel_watched|ios            |61           |881e4c8b-99af-4156-a325-a2068f5bf873|40                 |0           |1682939385      |GV24MY5     |1682939375|ML0ZSX  |0.6557377049180327 |\n",
      "|5.7.9      |bgmi        |reel_watched|ios            |61           |881e4c8b-99af-4156-a325-a2068f5bf873|99                 |1           |1682939257      |GV24MY5     |1682939248|ML0ZSX  |1.6229508196721312 |\n",
      "|5.7.9      |bgmi        |reel_watched|ios            |61           |881e4c8b-99af-4156-a325-a2068f5bf873|229                |3           |1682939301      |GV24MY5     |1682939285|ML0ZSX  |3.7540983606557377 |\n",
      "|5.7.9      |bgmi        |reel_watched|ios            |61           |881e4c8b-99af-4156-a325-a2068f5bf873|239                |3           |1682939706      |GV24MY5     |1682939696|ML0ZSX  |3.918032786885246  |\n",
      "|5.7.9      |bgmi        |reel_watched|ios            |61           |881e4c8b-99af-4156-a325-a2068f5bf873|189                |3           |1682939839      |GV24MY5     |1682939818|ML0ZSX  |3.098360655737705  |\n",
      "|5.7.9      |bgmi        |reel_watched|ios            |61           |881e4c8b-99af-4156-a325-a2068f5bf873|65                 |1           |1682939872      |GV24MY5     |1682939861|ML0ZSX  |1.0655737704918034 |\n",
      "|5.7.9      |bgmi        |reel_watched|ios            |61           |881e4c8b-99af-4156-a325-a2068f5bf873|208                |3           |1682939930      |GV24MY5     |1682939908|ML0ZSX  |3.4098360655737703 |\n",
      "|5.7.9      |bgmi        |reel_watched|ios            |61           |881e4c8b-99af-4156-a325-a2068f5bf873|225                |3           |1682940048      |GV24MY5     |1682940033|ML0ZSX  |3.6885245901639343 |\n",
      "|5.7.9      |bgmi        |reel_watched|ios            |61           |881e4c8b-99af-4156-a325-a2068f5bf873|154                |2           |1682939620      |GV24MY5     |1682939593|ML0ZSX  |2.5245901639344264 |\n",
      "|5.7.9      |bgmi        |reel_watched|ios            |61           |881e4c8b-99af-4156-a325-a2068f5bf873|153                |2           |1682939626      |GV24MY5     |1682939622|ML0ZSX  |2.5081967213114753 |\n",
      "|5.7.9      |bgmi        |reel_watched|ios            |61           |881e4c8b-99af-4156-a325-a2068f5bf873|145                |2           |1682939725      |GV24MY5     |1682939709|ML0ZSX  |2.377049180327869  |\n",
      "+-----------+------------+------------+---------------+-------------+------------------------------------+-------------------+------------+----------------+------------+----------+--------+-------------------+\n",
      "only showing top 20 rows\n",
      "\n"
     ]
    }
   ],
   "source": [
    "ws.watched_df.where(\"reel_uid = '881e4c8b-99af-4156-a325-a2068f5bf873' and app_version >= '2.3.0' and user_uid = 'ML0ZSX'\").show(truncate=False)"
   ]
  },
  {
   "cell_type": "code",
   "execution_count": 97,
   "id": "bc79074e-ba63-4239-8a3a-6408b569fb8b",
   "metadata": {},
   "outputs": [
    {
     "name": "stdout",
     "output_type": "stream",
     "text": [
      "+-----------+------------+----------+---------+---------------+-------------+------------------------------------+----------------+------------+----------+--------+\n",
      "|app_version|category_uid|event_name|like_time|origin_platform|reel_duration|reel_uid                            |server_timestamp|streamer_uid|timestamp |user_uid|\n",
      "+-----------+------------+----------+---------+---------------+-------------+------------------------------------+----------------+------------+----------+--------+\n",
      "|1.7.8      |bgmi        |reel_liked|10       |android        |61           |881e4c8b-99af-4156-a325-a2068f5bf873|1682953122      |GV24MY5     |1682953113|S5128I  |\n",
      "|1.7.8      |bgmi        |reel_liked|57       |android        |61           |881e4c8b-99af-4156-a325-a2068f5bf873|1682953122      |GV24MY5     |1682953120|S5128I  |\n",
      "|1.7.8      |bgmi        |reel_liked|52       |android        |61           |881e4c8b-99af-4156-a325-a2068f5bf873|1682907508      |GV24MY5     |1682907412|S5128I  |\n",
      "|1.7.8      |bgmi        |reel_liked|30       |android        |61           |881e4c8b-99af-4156-a325-a2068f5bf873|1682908330      |GV24MY5     |1682908297|S5128I  |\n",
      "|1.7.8      |bgmi        |reel_liked|51       |android        |61           |881e4c8b-99af-4156-a325-a2068f5bf873|1682908478      |GV24MY5     |1682908468|S5128I  |\n",
      "|1.7.8      |bgmi        |reel_liked|42       |android        |61           |881e4c8b-99af-4156-a325-a2068f5bf873|1682908281      |GV24MY5     |1682908270|S5128I  |\n",
      "|1.7.8      |bgmi        |reel_liked|18       |android        |61           |881e4c8b-99af-4156-a325-a2068f5bf873|1682917206      |GV24MY5     |1682917204|S5128I  |\n",
      "|1.7.8      |bgmi        |reel_liked|60       |android        |61           |881e4c8b-99af-4156-a325-a2068f5bf873|1682921261      |GV24MY5     |1682921242|S5128I  |\n",
      "|1.7.8      |bgmi        |reel_liked|42       |android        |61           |881e4c8b-99af-4156-a325-a2068f5bf873|1682920846      |GV24MY5     |1682920846|S5128I  |\n",
      "|1.7.8      |bgmi        |reel_liked|33       |android        |61           |881e4c8b-99af-4156-a325-a2068f5bf873|1682921135      |GV24MY5     |1682921120|S5128I  |\n",
      "|1.7.8      |bgmi        |reel_liked|22       |android        |61           |881e4c8b-99af-4156-a325-a2068f5bf873|1682921440      |GV24MY5     |1682921428|S5128I  |\n",
      "|1.7.8      |bgmi        |reel_liked|57       |android        |61           |881e4c8b-99af-4156-a325-a2068f5bf873|1682928410      |GV24MY5     |1682928392|S5128I  |\n",
      "|1.7.8      |bgmi        |reel_liked|3        |android        |61           |881e4c8b-99af-4156-a325-a2068f5bf873|1682902184      |GV24MY5     |1682902183|S5128I  |\n",
      "|1.7.8      |bgmi        |reel_liked|38       |android        |61           |881e4c8b-99af-4156-a325-a2068f5bf873|1682919794      |GV24MY5     |1682919772|S5128I  |\n",
      "|1.7.8      |bgmi        |reel_liked|29       |android        |61           |881e4c8b-99af-4156-a325-a2068f5bf873|1682919809      |GV24MY5     |1682919787|S5128I  |\n",
      "|1.7.8      |bgmi        |reel_liked|51       |android        |61           |881e4c8b-99af-4156-a325-a2068f5bf873|1682928247      |GV24MY5     |1682928219|S5128I  |\n",
      "|1.7.8      |bgmi        |reel_liked|37       |android        |61           |881e4c8b-99af-4156-a325-a2068f5bf873|1682928218      |GV24MY5     |1682928203|S5128I  |\n",
      "|1.7.8      |bgmi        |reel_liked|24       |android        |61           |881e4c8b-99af-4156-a325-a2068f5bf873|1682928464      |GV24MY5     |1682928415|S5128I  |\n",
      "|1.7.8      |bgmi        |reel_liked|0        |android        |61           |881e4c8b-99af-4156-a325-a2068f5bf873|1682954767      |GV24MY5     |1682954766|S5128I  |\n",
      "|1.7.8      |bgmi        |reel_liked|11       |android        |61           |881e4c8b-99af-4156-a325-a2068f5bf873|1682954849      |GV24MY5     |1682954847|S5128I  |\n",
      "+-----------+------------+----------+---------+---------------+-------------+------------------------------------+----------------+------------+----------+--------+\n",
      "only showing top 20 rows\n",
      "\n"
     ]
    }
   ],
   "source": [
    "ls.liked_df.where(\"reel_uid = '881e4c8b-99af-4156-a325-a2068f5bf873' and app_version < '2.3.0'\").show(truncate=False)"
   ]
  },
  {
   "cell_type": "code",
   "execution_count": 152,
   "id": "c8ef9516-5855-40b8-8bf3-2bd4e2f50251",
   "metadata": {},
   "outputs": [],
   "source": []
  },
  {
   "cell_type": "code",
   "execution_count": 157,
   "id": "cd8e6162-b3ae-457c-bcd2-466030306f4d",
   "metadata": {},
   "outputs": [
    {
     "name": "stdout",
     "output_type": "stream",
     "text": [
      "+-----------+------------+----------+---------+---------------+-------------+------------------------------------+----------------+------------+----------+--------+\n",
      "|app_version|category_uid|event_name|like_time|origin_platform|reel_duration|reel_uid                            |server_timestamp|streamer_uid|timestamp |user_uid|\n",
      "+-----------+------------+----------+---------+---------------+-------------+------------------------------------+----------------+------------+----------+--------+\n",
      "|5.7.9      |bgmi        |reel_liked|19       |ios            |61           |881e4c8b-99af-4156-a325-a2068f5bf873|1682964102      |GV24MY5     |1682964255|ML0ZSX  |\n",
      "+-----------+------------+----------+---------+---------------+-------------+------------------------------------+----------------+------------+----------+--------+\n",
      "\n"
     ]
    }
   ],
   "source": [
    "liked_df = spark.createDataFrame(TestCases.test_liked_only_event['reel_liked_data']).show(truncate=False)"
   ]
  },
  {
   "cell_type": "code",
   "execution_count": null,
   "id": "528ca9cf-98ce-4ee9-ad07-8a64b4fbf95f",
   "metadata": {},
   "outputs": [],
   "source": []
  }
 ],
 "metadata": {
  "kernelspec": {
   "display_name": "Python 3 (ipykernel)",
   "language": "python",
   "name": "python3"
  },
  "language_info": {
   "codemirror_mode": {
    "name": "ipython",
    "version": 3
   },
   "file_extension": ".py",
   "mimetype": "text/x-python",
   "name": "python",
   "nbconvert_exporter": "python",
   "pygments_lexer": "ipython3",
   "version": "3.11.4"
  }
 },
 "nbformat": 4,
 "nbformat_minor": 5
}
